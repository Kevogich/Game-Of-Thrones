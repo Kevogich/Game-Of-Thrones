{
 "metadata": {
  "name": "",
  "signature": "sha256:8039267a05cd12aea86382715fc2cfe4bde5f77ed6167f05368c1b469db900e6"
 },
 "nbformat": 3,
 "nbformat_minor": 0,
 "worksheets": [
  {
   "cells": [
    {
     "cell_type": "markdown",
     "metadata": {},
     "source": [
      "# Exploratory Analysis of the Battles of the War of Five Kings Dataset\n",
      "\n",
      "- Author: Chris Albon (@ChrisAlbon)\n",
      "- Date: August 17, 2014\n",
      "- Repo: https://github.com/chrisalbon/war_of_the_five_kings_dataset/"
     ]
    },
    {
     "cell_type": "markdown",
     "metadata": {},
     "source": [
      "## Preliminary"
     ]
    },
    {
     "cell_type": "code",
     "collapsed": false,
     "input": [
      "# Import required modules\n",
      "import pandas as pd\n",
      "from ggplot import *\n",
      "%matplotlib inline\n",
      "\n",
      "# Set ipython's max row display\n",
      "pd.set_option('display.max_row', 1000)\n",
      "\n",
      "# Set iPython's max column width to 50\n",
      "pd.set_option('display.max_columns', 50)"
     ],
     "language": "python",
     "metadata": {},
     "outputs": [],
     "prompt_number": 23
    },
    {
     "cell_type": "markdown",
     "metadata": {},
     "source": [
      "## Loading the data"
     ]
    },
    {
     "cell_type": "code",
     "collapsed": false,
     "input": [
      "# Load the dataset\n",
      "df = pd.read_csv('5kings_battles_v1.csv')"
     ],
     "language": "python",
     "metadata": {},
     "outputs": [],
     "prompt_number": 24
    },
    {
     "cell_type": "markdown",
     "metadata": {},
     "source": [
      "## Quick check on the data"
     ]
    },
    {
     "cell_type": "code",
     "collapsed": false,
     "input": [
      "# View the top five observations\n",
      "df.head()"
     ],
     "language": "python",
     "metadata": {},
     "outputs": [
      {
       "html": [
        "<div style=\"max-height:1000px;max-width:1500px;overflow:auto;\">\n",
        "<table border=\"1\" class=\"dataframe\">\n",
        "  <thead>\n",
        "    <tr style=\"text-align: right;\">\n",
        "      <th></th>\n",
        "      <th>name</th>\n",
        "      <th>year</th>\n",
        "      <th>battle_number</th>\n",
        "      <th>attacker_king</th>\n",
        "      <th>defender_king</th>\n",
        "      <th>attacker_1</th>\n",
        "      <th>attacker_2</th>\n",
        "      <th>attacker_3</th>\n",
        "      <th>attacker_4</th>\n",
        "      <th>defender_1</th>\n",
        "      <th>defender_2</th>\n",
        "      <th>defender_3</th>\n",
        "      <th>defender_4</th>\n",
        "      <th>attacker_outcome</th>\n",
        "      <th>battle_type</th>\n",
        "      <th>major_death</th>\n",
        "      <th>major_capture</th>\n",
        "      <th>attacker_size</th>\n",
        "      <th>defender_size</th>\n",
        "      <th>attacker_commander</th>\n",
        "      <th>defender_commander</th>\n",
        "      <th>summer</th>\n",
        "      <th>location</th>\n",
        "      <th>region</th>\n",
        "      <th>note</th>\n",
        "    </tr>\n",
        "  </thead>\n",
        "  <tbody>\n",
        "    <tr>\n",
        "      <th>0</th>\n",
        "      <td>    Battle of the Golden Tooth</td>\n",
        "      <td> 298</td>\n",
        "      <td> 1</td>\n",
        "      <td> Joffrey/Tommen Baratheon</td>\n",
        "      <td>               Robb Stark</td>\n",
        "      <td> Lannister</td>\n",
        "      <td>   NaN</td>\n",
        "      <td> NaN</td>\n",
        "      <td> NaN</td>\n",
        "      <td>     Tully</td>\n",
        "      <td> NaN</td>\n",
        "      <td>NaN</td>\n",
        "      <td>NaN</td>\n",
        "      <td>  win</td>\n",
        "      <td> pitched battle</td>\n",
        "      <td> 1</td>\n",
        "      <td> 0</td>\n",
        "      <td> 15000</td>\n",
        "      <td>  4000</td>\n",
        "      <td>                                   Jaime Lannister</td>\n",
        "      <td>                              Clement Piper, Vance</td>\n",
        "      <td> 1</td>\n",
        "      <td>    Golden Tooth</td>\n",
        "      <td> The Westerlands</td>\n",
        "      <td> NaN</td>\n",
        "    </tr>\n",
        "    <tr>\n",
        "      <th>1</th>\n",
        "      <td>   Battle at the Mummer's Ford</td>\n",
        "      <td> 298</td>\n",
        "      <td> 2</td>\n",
        "      <td> Joffrey/Tommen Baratheon</td>\n",
        "      <td>               Robb Stark</td>\n",
        "      <td> Lannister</td>\n",
        "      <td>   NaN</td>\n",
        "      <td> NaN</td>\n",
        "      <td> NaN</td>\n",
        "      <td> Baratheon</td>\n",
        "      <td> NaN</td>\n",
        "      <td>NaN</td>\n",
        "      <td>NaN</td>\n",
        "      <td>  win</td>\n",
        "      <td>         ambush</td>\n",
        "      <td> 1</td>\n",
        "      <td> 0</td>\n",
        "      <td>   NaN</td>\n",
        "      <td>   120</td>\n",
        "      <td>                                    Gregor Clegane</td>\n",
        "      <td>                                  Beric Dondarrion</td>\n",
        "      <td> 1</td>\n",
        "      <td>   Mummer's Ford</td>\n",
        "      <td>  The Riverlands</td>\n",
        "      <td> NaN</td>\n",
        "    </tr>\n",
        "    <tr>\n",
        "      <th>2</th>\n",
        "      <td>            Battle of Riverrun</td>\n",
        "      <td> 298</td>\n",
        "      <td> 3</td>\n",
        "      <td> Joffrey/Tommen Baratheon</td>\n",
        "      <td>               Robb Stark</td>\n",
        "      <td> Lannister</td>\n",
        "      <td>   NaN</td>\n",
        "      <td> NaN</td>\n",
        "      <td> NaN</td>\n",
        "      <td>     Tully</td>\n",
        "      <td> NaN</td>\n",
        "      <td>NaN</td>\n",
        "      <td>NaN</td>\n",
        "      <td>  win</td>\n",
        "      <td> pitched battle</td>\n",
        "      <td> 0</td>\n",
        "      <td> 1</td>\n",
        "      <td> 15000</td>\n",
        "      <td> 10000</td>\n",
        "      <td>                      Jaime Lannister, Andros Brax</td>\n",
        "      <td>                     Edmure Tully, Tytos Blackwood</td>\n",
        "      <td> 1</td>\n",
        "      <td>        Riverrun</td>\n",
        "      <td>  The Riverlands</td>\n",
        "      <td> NaN</td>\n",
        "    </tr>\n",
        "    <tr>\n",
        "      <th>3</th>\n",
        "      <td>      Battle of the Green Fork</td>\n",
        "      <td> 298</td>\n",
        "      <td> 4</td>\n",
        "      <td>               Robb Stark</td>\n",
        "      <td> Joffrey/Tommen Baratheon</td>\n",
        "      <td>     Stark</td>\n",
        "      <td>   NaN</td>\n",
        "      <td> NaN</td>\n",
        "      <td> NaN</td>\n",
        "      <td> Lannister</td>\n",
        "      <td> NaN</td>\n",
        "      <td>NaN</td>\n",
        "      <td>NaN</td>\n",
        "      <td> loss</td>\n",
        "      <td> pitched battle</td>\n",
        "      <td> 1</td>\n",
        "      <td> 1</td>\n",
        "      <td> 18000</td>\n",
        "      <td> 20000</td>\n",
        "      <td> Roose Bolton, Wylis Manderly, Medger Cerwyn, H...</td>\n",
        "      <td> Tywin Lannister, Gregor Clegane, Kevan Lannist...</td>\n",
        "      <td> 1</td>\n",
        "      <td>      Green Fork</td>\n",
        "      <td>  The Riverlands</td>\n",
        "      <td> NaN</td>\n",
        "    </tr>\n",
        "    <tr>\n",
        "      <th>4</th>\n",
        "      <td> Battle of the Whispering Wood</td>\n",
        "      <td> 298</td>\n",
        "      <td> 5</td>\n",
        "      <td>               Robb Stark</td>\n",
        "      <td> Joffrey/Tommen Baratheon</td>\n",
        "      <td>     Stark</td>\n",
        "      <td> Tully</td>\n",
        "      <td> NaN</td>\n",
        "      <td> NaN</td>\n",
        "      <td> Lannister</td>\n",
        "      <td> NaN</td>\n",
        "      <td>NaN</td>\n",
        "      <td>NaN</td>\n",
        "      <td>  win</td>\n",
        "      <td>         ambush</td>\n",
        "      <td> 1</td>\n",
        "      <td> 1</td>\n",
        "      <td>  1875</td>\n",
        "      <td>  6000</td>\n",
        "      <td>                         Robb Stark, Brynden Tully</td>\n",
        "      <td>                                   Jaime Lannister</td>\n",
        "      <td> 1</td>\n",
        "      <td> Whispering Wood</td>\n",
        "      <td>  The Riverlands</td>\n",
        "      <td> NaN</td>\n",
        "    </tr>\n",
        "  </tbody>\n",
        "</table>\n",
        "</div>"
       ],
       "metadata": {},
       "output_type": "pyout",
       "prompt_number": 25,
       "text": [
        "                            name  year  battle_number  \\\n",
        "0     Battle of the Golden Tooth   298              1   \n",
        "1    Battle at the Mummer's Ford   298              2   \n",
        "2             Battle of Riverrun   298              3   \n",
        "3       Battle of the Green Fork   298              4   \n",
        "4  Battle of the Whispering Wood   298              5   \n",
        "\n",
        "              attacker_king             defender_king attacker_1 attacker_2  \\\n",
        "0  Joffrey/Tommen Baratheon                Robb Stark  Lannister        NaN   \n",
        "1  Joffrey/Tommen Baratheon                Robb Stark  Lannister        NaN   \n",
        "2  Joffrey/Tommen Baratheon                Robb Stark  Lannister        NaN   \n",
        "3                Robb Stark  Joffrey/Tommen Baratheon      Stark        NaN   \n",
        "4                Robb Stark  Joffrey/Tommen Baratheon      Stark      Tully   \n",
        "\n",
        "  attacker_3 attacker_4 defender_1 defender_2  defender_3  defender_4  \\\n",
        "0        NaN        NaN      Tully        NaN         NaN         NaN   \n",
        "1        NaN        NaN  Baratheon        NaN         NaN         NaN   \n",
        "2        NaN        NaN      Tully        NaN         NaN         NaN   \n",
        "3        NaN        NaN  Lannister        NaN         NaN         NaN   \n",
        "4        NaN        NaN  Lannister        NaN         NaN         NaN   \n",
        "\n",
        "  attacker_outcome     battle_type  major_death  major_capture  attacker_size  \\\n",
        "0              win  pitched battle            1              0          15000   \n",
        "1              win          ambush            1              0            NaN   \n",
        "2              win  pitched battle            0              1          15000   \n",
        "3             loss  pitched battle            1              1          18000   \n",
        "4              win          ambush            1              1           1875   \n",
        "\n",
        "   defender_size                                 attacker_commander  \\\n",
        "0           4000                                    Jaime Lannister   \n",
        "1            120                                     Gregor Clegane   \n",
        "2          10000                       Jaime Lannister, Andros Brax   \n",
        "3          20000  Roose Bolton, Wylis Manderly, Medger Cerwyn, H...   \n",
        "4           6000                          Robb Stark, Brynden Tully   \n",
        "\n",
        "                                  defender_commander  summer         location  \\\n",
        "0                               Clement Piper, Vance       1     Golden Tooth   \n",
        "1                                   Beric Dondarrion       1    Mummer's Ford   \n",
        "2                      Edmure Tully, Tytos Blackwood       1         Riverrun   \n",
        "3  Tywin Lannister, Gregor Clegane, Kevan Lannist...       1       Green Fork   \n",
        "4                                    Jaime Lannister       1  Whispering Wood   \n",
        "\n",
        "            region note  \n",
        "0  The Westerlands  NaN  \n",
        "1   The Riverlands  NaN  \n",
        "2   The Riverlands  NaN  \n",
        "3   The Riverlands  NaN  \n",
        "4   The Riverlands  NaN  "
       ]
      }
     ],
     "prompt_number": 25
    },
    {
     "cell_type": "code",
     "collapsed": false,
     "input": [
      "# View the bottom five observations\n",
      "df.tail()"
     ],
     "language": "python",
     "metadata": {},
     "outputs": [
      {
       "html": [
        "<div style=\"max-height:1000px;max-width:1500px;overflow:auto;\">\n",
        "<table border=\"1\" class=\"dataframe\">\n",
        "  <thead>\n",
        "    <tr style=\"text-align: right;\">\n",
        "      <th></th>\n",
        "      <th>name</th>\n",
        "      <th>year</th>\n",
        "      <th>battle_number</th>\n",
        "      <th>attacker_king</th>\n",
        "      <th>defender_king</th>\n",
        "      <th>attacker_1</th>\n",
        "      <th>attacker_2</th>\n",
        "      <th>attacker_3</th>\n",
        "      <th>attacker_4</th>\n",
        "      <th>defender_1</th>\n",
        "      <th>defender_2</th>\n",
        "      <th>defender_3</th>\n",
        "      <th>defender_4</th>\n",
        "      <th>attacker_outcome</th>\n",
        "      <th>battle_type</th>\n",
        "      <th>major_death</th>\n",
        "      <th>major_capture</th>\n",
        "      <th>attacker_size</th>\n",
        "      <th>defender_size</th>\n",
        "      <th>attacker_commander</th>\n",
        "      <th>defender_commander</th>\n",
        "      <th>summer</th>\n",
        "      <th>location</th>\n",
        "      <th>region</th>\n",
        "      <th>note</th>\n",
        "    </tr>\n",
        "  </thead>\n",
        "  <tbody>\n",
        "    <tr>\n",
        "      <th>33</th>\n",
        "      <td> Second Seige of Storm's End</td>\n",
        "      <td> 300</td>\n",
        "      <td> 34</td>\n",
        "      <td> Joffrey/Tommen Baratheon</td>\n",
        "      <td>        Stannis Baratheon</td>\n",
        "      <td> Baratheon</td>\n",
        "      <td>       NaN</td>\n",
        "      <td>     NaN</td>\n",
        "      <td>    NaN</td>\n",
        "      <td> Baratheon</td>\n",
        "      <td>  NaN</td>\n",
        "      <td>NaN</td>\n",
        "      <td>NaN</td>\n",
        "      <td> win</td>\n",
        "      <td> siege</td>\n",
        "      <td>  0</td>\n",
        "      <td>  0</td>\n",
        "      <td>  NaN</td>\n",
        "      <td>  200</td>\n",
        "      <td>                   Mace Tyrell, Mathis Rowan</td>\n",
        "      <td> Gilbert Farring</td>\n",
        "      <td> 0</td>\n",
        "      <td> Storm's End</td>\n",
        "      <td> The Stormlands</td>\n",
        "      <td> NaN</td>\n",
        "    </tr>\n",
        "    <tr>\n",
        "      <th>34</th>\n",
        "      <td>        Siege of Dragonstone</td>\n",
        "      <td> 300</td>\n",
        "      <td> 35</td>\n",
        "      <td> Joffrey/Tommen Baratheon</td>\n",
        "      <td>        Stannis Baratheon</td>\n",
        "      <td> Baratheon</td>\n",
        "      <td>       NaN</td>\n",
        "      <td>     NaN</td>\n",
        "      <td>    NaN</td>\n",
        "      <td> Baratheon</td>\n",
        "      <td>  NaN</td>\n",
        "      <td>NaN</td>\n",
        "      <td>NaN</td>\n",
        "      <td> win</td>\n",
        "      <td> siege</td>\n",
        "      <td>  0</td>\n",
        "      <td>  0</td>\n",
        "      <td> 2000</td>\n",
        "      <td>  NaN</td>\n",
        "      <td>                Loras Tyrell, Raxter Redwyne</td>\n",
        "      <td>   Rolland Storm</td>\n",
        "      <td> 0</td>\n",
        "      <td> Dragonstone</td>\n",
        "      <td> The Stormlands</td>\n",
        "      <td> NaN</td>\n",
        "    </tr>\n",
        "    <tr>\n",
        "      <th>35</th>\n",
        "      <td>           Siege of Riverrun</td>\n",
        "      <td> 300</td>\n",
        "      <td> 36</td>\n",
        "      <td> Joffrey/Tommen Baratheon</td>\n",
        "      <td>               Robb Stark</td>\n",
        "      <td> Lannister</td>\n",
        "      <td>      Frey</td>\n",
        "      <td>     NaN</td>\n",
        "      <td>    NaN</td>\n",
        "      <td>     Tully</td>\n",
        "      <td>  NaN</td>\n",
        "      <td>NaN</td>\n",
        "      <td>NaN</td>\n",
        "      <td> win</td>\n",
        "      <td> siege</td>\n",
        "      <td>  0</td>\n",
        "      <td>  0</td>\n",
        "      <td> 3000</td>\n",
        "      <td>  NaN</td>\n",
        "      <td> Daven Lannister, Ryman Fey, Jaime Lannister</td>\n",
        "      <td>   Brynden Tully</td>\n",
        "      <td> 0</td>\n",
        "      <td>    Riverrun</td>\n",
        "      <td> The Riverlands</td>\n",
        "      <td> NaN</td>\n",
        "    </tr>\n",
        "    <tr>\n",
        "      <th>36</th>\n",
        "      <td>          Siege of Raventree</td>\n",
        "      <td> 300</td>\n",
        "      <td> 37</td>\n",
        "      <td> Joffrey/Tommen Baratheon</td>\n",
        "      <td>               Robb Stark</td>\n",
        "      <td>   Bracken</td>\n",
        "      <td> Lannister</td>\n",
        "      <td>     NaN</td>\n",
        "      <td>    NaN</td>\n",
        "      <td> Blackwood</td>\n",
        "      <td>  NaN</td>\n",
        "      <td>NaN</td>\n",
        "      <td>NaN</td>\n",
        "      <td> win</td>\n",
        "      <td> siege</td>\n",
        "      <td>  0</td>\n",
        "      <td>  1</td>\n",
        "      <td> 1500</td>\n",
        "      <td>  NaN</td>\n",
        "      <td>              Jonos Bracken, Jaime Lannister</td>\n",
        "      <td> Tytos Blackwood</td>\n",
        "      <td> 0</td>\n",
        "      <td>   Raventree</td>\n",
        "      <td> The Riverlands</td>\n",
        "      <td> NaN</td>\n",
        "    </tr>\n",
        "    <tr>\n",
        "      <th>37</th>\n",
        "      <td>         Siege of Winterfell</td>\n",
        "      <td> 300</td>\n",
        "      <td> 38</td>\n",
        "      <td>        Stannis Baratheon</td>\n",
        "      <td> Joffrey/Tommen Baratheon</td>\n",
        "      <td> Baratheon</td>\n",
        "      <td>  Karstark</td>\n",
        "      <td> Mormont</td>\n",
        "      <td> Glover</td>\n",
        "      <td>    Bolton</td>\n",
        "      <td> Frey</td>\n",
        "      <td>NaN</td>\n",
        "      <td>NaN</td>\n",
        "      <td> NaN</td>\n",
        "      <td>   NaN</td>\n",
        "      <td>NaN</td>\n",
        "      <td>NaN</td>\n",
        "      <td> 5000</td>\n",
        "      <td> 8000</td>\n",
        "      <td>                           Stannis Baratheon</td>\n",
        "      <td>    Roose Bolton</td>\n",
        "      <td> 0</td>\n",
        "      <td>  Winterfell</td>\n",
        "      <td>      The North</td>\n",
        "      <td> NaN</td>\n",
        "    </tr>\n",
        "  </tbody>\n",
        "</table>\n",
        "</div>"
       ],
       "metadata": {},
       "output_type": "pyout",
       "prompt_number": 26,
       "text": [
        "                           name  year  battle_number  \\\n",
        "33  Second Seige of Storm's End   300             34   \n",
        "34         Siege of Dragonstone   300             35   \n",
        "35            Siege of Riverrun   300             36   \n",
        "36           Siege of Raventree   300             37   \n",
        "37          Siege of Winterfell   300             38   \n",
        "\n",
        "               attacker_king             defender_king attacker_1 attacker_2  \\\n",
        "33  Joffrey/Tommen Baratheon         Stannis Baratheon  Baratheon        NaN   \n",
        "34  Joffrey/Tommen Baratheon         Stannis Baratheon  Baratheon        NaN   \n",
        "35  Joffrey/Tommen Baratheon                Robb Stark  Lannister       Frey   \n",
        "36  Joffrey/Tommen Baratheon                Robb Stark    Bracken  Lannister   \n",
        "37         Stannis Baratheon  Joffrey/Tommen Baratheon  Baratheon   Karstark   \n",
        "\n",
        "   attacker_3 attacker_4 defender_1 defender_2  defender_3  defender_4  \\\n",
        "33        NaN        NaN  Baratheon        NaN         NaN         NaN   \n",
        "34        NaN        NaN  Baratheon        NaN         NaN         NaN   \n",
        "35        NaN        NaN      Tully        NaN         NaN         NaN   \n",
        "36        NaN        NaN  Blackwood        NaN         NaN         NaN   \n",
        "37    Mormont     Glover     Bolton       Frey         NaN         NaN   \n",
        "\n",
        "   attacker_outcome battle_type  major_death  major_capture  attacker_size  \\\n",
        "33              win       siege            0              0            NaN   \n",
        "34              win       siege            0              0           2000   \n",
        "35              win       siege            0              0           3000   \n",
        "36              win       siege            0              1           1500   \n",
        "37              NaN         NaN          NaN            NaN           5000   \n",
        "\n",
        "    defender_size                           attacker_commander  \\\n",
        "33            200                    Mace Tyrell, Mathis Rowan   \n",
        "34            NaN                 Loras Tyrell, Raxter Redwyne   \n",
        "35            NaN  Daven Lannister, Ryman Fey, Jaime Lannister   \n",
        "36            NaN               Jonos Bracken, Jaime Lannister   \n",
        "37           8000                            Stannis Baratheon   \n",
        "\n",
        "   defender_commander  summer     location          region note  \n",
        "33    Gilbert Farring       0  Storm's End  The Stormlands  NaN  \n",
        "34      Rolland Storm       0  Dragonstone  The Stormlands  NaN  \n",
        "35      Brynden Tully       0     Riverrun  The Riverlands  NaN  \n",
        "36    Tytos Blackwood       0    Raventree  The Riverlands  NaN  \n",
        "37       Roose Bolton       0   Winterfell       The North  NaN  "
       ]
      }
     ],
     "prompt_number": 26
    },
    {
     "cell_type": "markdown",
     "metadata": {},
     "source": [
      "## Exploratory Data Analysis"
     ]
    },
    {
     "cell_type": "markdown",
     "metadata": {},
     "source": [
      "### Which year had the most battles?"
     ]
    },
    {
     "cell_type": "code",
     "collapsed": false,
     "input": [
      "# Count the number of observations for each value\n",
      "df['year'].value_counts()"
     ],
     "language": "python",
     "metadata": {},
     "outputs": [
      {
       "metadata": {},
       "output_type": "pyout",
       "prompt_number": 27,
       "text": [
        "299    20\n",
        "300    11\n",
        "298     7\n",
        "dtype: int64"
       ]
      }
     ],
     "prompt_number": 27
    },
    {
     "cell_type": "markdown",
     "metadata": {},
     "source": [
      "### Which region had the most battles?"
     ]
    },
    {
     "cell_type": "code",
     "collapsed": false,
     "input": [
      "# Count the number of observations for each value, then make a bar plot\n",
      "df['region'].value_counts().plot(kind='bar')"
     ],
     "language": "python",
     "metadata": {},
     "outputs": [
      {
       "metadata": {},
       "output_type": "pyout",
       "prompt_number": 28,
       "text": [
        "<matplotlib.axes.AxesSubplot at 0x10c33e810>"
       ]
      },
      {
       "metadata": {},
       "output_type": "display_data",
       "png": "[encoded data removed]",
       "text": [
        "<matplotlib.figure.Figure at 0x10bf2f6d0>"
       ]
      }
     ],
     "prompt_number": 28
    },
    {
     "cell_type": "markdown",
     "metadata": {},
     "source": [
      "### What was the outcomes of all battles?"
     ]
    },
    {
     "cell_type": "code",
     "collapsed": false,
     "input": [
      "# Count the number of observations for each value, then make a bar plot\n",
      "df['attacker_outcome'].value_counts().plot(kind='bar')"
     ],
     "language": "python",
     "metadata": {},
     "outputs": [
      {
       "metadata": {},
       "output_type": "pyout",
       "prompt_number": 29,
       "text": [
        "<matplotlib.axes.AxesSubplot at 0x10c376710>"
       ]
      },
      {
       "metadata": {},
       "output_type": "display_data",
       "png": "[encoded data removed]",
       "text": [
        "<matplotlib.figure.Figure at 0x10c10a410>"
       ]
      }
     ],
     "prompt_number": 29
    },
    {
     "cell_type": "markdown",
     "metadata": {},
     "source": [
      "### How common was the different types of battles?"
     ]
    },
    {
     "cell_type": "code",
     "collapsed": false,
     "input": [
      "# Count the number of observations for each value, then make a bar plot\n",
      "df['battle_type'].value_counts().plot(kind='bar')"
     ],
     "language": "python",
     "metadata": {},
     "outputs": [
      {
       "metadata": {},
       "output_type": "pyout",
       "prompt_number": 30,
       "text": [
        "<matplotlib.axes.AxesSubplot at 0x10c46eb10>"
       ]
      },
      {
       "metadata": {},
       "output_type": "display_data",
       "png": "[encoded data removed]",
       "text": [
        "<matplotlib.figure.Figure at 0x10c51e650>"
       ]
      }
     ],
     "prompt_number": 30
    },
    {
     "cell_type": "markdown",
     "metadata": {},
     "source": [
      "### Which king attacked the most?"
     ]
    },
    {
     "cell_type": "code",
     "collapsed": false,
     "input": [
      "# Count the number of observations for each value, then make a bar plot\n",
      "df['attacker_king'].value_counts().plot(kind='bar')"
     ],
     "language": "python",
     "metadata": {},
     "outputs": [
      {
       "metadata": {},
       "output_type": "pyout",
       "prompt_number": 31,
       "text": [
        "<matplotlib.axes.AxesSubplot at 0x10c549350>"
       ]
      },
      {
       "metadata": {},
       "output_type": "display_data",
       "png": "[encoded data removed]",
       "text": [
        "<matplotlib.figure.Figure at 0x10c72d450>"
       ]
      }
     ],
     "prompt_number": 31
    },
    {
     "cell_type": "markdown",
     "metadata": {},
     "source": [
      "### Which king was the most attacked?"
     ]
    },
    {
     "cell_type": "code",
     "collapsed": false,
     "input": [
      "# Count the number of observations for each value, then make a bar plot\n",
      "df['defender_king'].value_counts().plot(kind='bar')"
     ],
     "language": "python",
     "metadata": {},
     "outputs": [
      {
       "metadata": {},
       "output_type": "pyout",
       "prompt_number": 32,
       "text": [
        "<matplotlib.axes.AxesSubplot at 0x10c90c7d0>"
       ]
      },
      {
       "metadata": {},
       "output_type": "display_data",
       "png": "[encoded data removed]",
       "text": [
        "<matplotlib.figure.Figure at 0x10c9213d0>"
       ]
      }
     ],
     "prompt_number": 32
    },
    {
     "cell_type": "markdown",
     "metadata": {},
     "source": [
      "### Which kings were most active in the war?"
     ]
    },
    {
     "cell_type": "code",
     "collapsed": false,
     "input": [
      "war_action = df['attacker_king'].value_counts() + df['defender_king'].value_counts()\n",
      "war_action.fillna(1).plot(kind='bar')"
     ],
     "language": "python",
     "metadata": {},
     "outputs": [
      {
       "metadata": {},
       "output_type": "pyout",
       "prompt_number": 33,
       "text": [
        "<matplotlib.axes.AxesSubplot at 0x10c9c8610>"
       ]
      },
      {
       "metadata": {},
       "output_type": "display_data",
       "png": "[encoded data removed]",
       "text": [
        "<matplotlib.figure.Figure at 0x10ca20f90>"
       ]
      }
     ],
     "prompt_number": 33
    },
    {
     "cell_type": "markdown",
     "metadata": {},
     "source": [
      "### Is there any relationship between troop size and battle outcome?"
     ]
    },
    {
     "cell_type": "code",
     "collapsed": false,
     "input": [
      "# Create a ggplot scatter plot of attacker_size against defender_size (if not NaN), \n",
      "# with the color of each dot being determined by the outcome of the battle\n",
      "ggplot(aes(x='attacker_size', y='defender_size', colour='attacker_outcome'), \n",
      "       data=df[df['attacker_size'].notnull() & df['defender_size'].notnull() & df['attacker_outcome'].notnull()]) + \\\n",
      "    geom_point()"
     ],
     "language": "python",
     "metadata": {},
     "outputs": [
      {
       "metadata": {},
       "output_type": "display_data",
       "png": "[encoded data removed]",
       "text": [
        "<matplotlib.figure.Figure at 0x10cad08d0>"
       ]
      },
      {
       "metadata": {},
       "output_type": "pyout",
       "prompt_number": 34,
       "text": [
        "<ggplot: (281727157)>"
       ]
      }
     ],
     "prompt_number": 34
    },
    {
     "cell_type": "code",
     "collapsed": false,
     "input": [],
     "language": "python",
     "metadata": {},
     "outputs": [],
     "prompt_number": 34
    }
   ],
   "metadata": {}
  }
 ]
}